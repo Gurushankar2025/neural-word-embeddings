{
  "nbformat": 4,
  "nbformat_minor": 0,
  "metadata": {
    "colab": {
      "provenance": [],
      "authorship_tag": "ABX9TyNVbasN3Ql/uLTLq92uKxY8",
      "include_colab_link": true
    },
    "kernelspec": {
      "name": "python3",
      "display_name": "Python 3"
    },
    "language_info": {
      "name": "python"
    }
  },
  "cells": [
    {
      "cell_type": "markdown",
      "metadata": {
        "id": "view-in-github",
        "colab_type": "text"
      },
      "source": [
        "<a href=\"https://colab.research.google.com/github/Gurushankar2025/neural-word-embeddings/blob/main/projects/neural_embedding_operations/word2vec_glove_Exercise.ipynb\" target=\"_parent\"><img src=\"https://colab.research.google.com/assets/colab-badge.svg\" alt=\"Open In Colab\"/></a>"
      ]
    },
    {
      "cell_type": "markdown",
      "source": [
        "## **Similarity based Tasks**"
      ],
      "metadata": {
        "id": "04R-5nDb58nz"
      }
    },
    {
      "cell_type": "code",
      "execution_count": null,
      "metadata": {
        "colab": {
          "base_uri": "https://localhost:8080/"
        },
        "id": "unDSwiZgeq1n",
        "outputId": "67dc343c-5161-480e-b742-51665300bd0a"
      },
      "outputs": [
        {
          "output_type": "stream",
          "name": "stdout",
          "text": [
            "Requirement already satisfied: gensim in /usr/local/lib/python3.11/dist-packages (4.3.3)\n",
            "Requirement already satisfied: numpy<2.0,>=1.18.5 in /usr/local/lib/python3.11/dist-packages (from gensim) (1.26.4)\n",
            "Requirement already satisfied: scipy<1.14.0,>=1.7.0 in /usr/local/lib/python3.11/dist-packages (from gensim) (1.13.1)\n",
            "Requirement already satisfied: smart-open>=1.8.1 in /usr/local/lib/python3.11/dist-packages (from gensim) (7.3.0.post1)\n",
            "Requirement already satisfied: wrapt in /usr/local/lib/python3.11/dist-packages (from smart-open>=1.8.1->gensim) (1.17.2)\n"
          ]
        }
      ],
      "source": [
        "!pip install gensim"
      ]
    },
    {
      "cell_type": "code",
      "source": [
        "!pip install python-levenshtein"
      ],
      "metadata": {
        "colab": {
          "base_uri": "https://localhost:8080/"
        },
        "id": "B5x8CK2cfb79",
        "outputId": "4a24242e-248c-4308-ad48-161941fbbc00"
      },
      "execution_count": null,
      "outputs": [
        {
          "output_type": "stream",
          "name": "stdout",
          "text": [
            "Requirement already satisfied: python-levenshtein in /usr/local/lib/python3.11/dist-packages (0.27.1)\n",
            "Requirement already satisfied: Levenshtein==0.27.1 in /usr/local/lib/python3.11/dist-packages (from python-levenshtein) (0.27.1)\n",
            "Requirement already satisfied: rapidfuzz<4.0.0,>=3.9.0 in /usr/local/lib/python3.11/dist-packages (from Levenshtein==0.27.1->python-levenshtein) (3.13.0)\n"
          ]
        }
      ]
    },
    {
      "cell_type": "code",
      "source": [
        "import gensim.downloader as api"
      ],
      "metadata": {
        "id": "zUi7oS48f1ZL"
      },
      "execution_count": null,
      "outputs": []
    },
    {
      "cell_type": "markdown",
      "source": [
        "## **Word2vec**"
      ],
      "metadata": {
        "id": "C4AK8rttgF5Q"
      }
    },
    {
      "cell_type": "code",
      "source": [
        "#load the word2vec-google-news-300\n",
        "wv=api.load('word2vec-google-news-300')"
      ],
      "metadata": {
        "id": "47Jl8-pbgCZP"
      },
      "execution_count": null,
      "outputs": []
    },
    {
      "cell_type": "code",
      "source": [
        "text1=\"lion\"\n",
        "text2=\"forest\"\n",
        "text3=\"tiger\"\n",
        "text4=\"sun\"\n",
        "text5=\"heat\""
      ],
      "metadata": {
        "id": "KDD1gKYJianV"
      },
      "execution_count": null,
      "outputs": []
    },
    {
      "cell_type": "code",
      "source": [
        "print(f'lion and forest simalrity : ',wv.similarity(text1,text2))\n"
      ],
      "metadata": {
        "colab": {
          "base_uri": "https://localhost:8080/"
        },
        "id": "m1XnOYtzrXtO",
        "outputId": "2c4f0fd8-9652-4942-d48a-e1ab4d77b8b9"
      },
      "execution_count": null,
      "outputs": [
        {
          "output_type": "stream",
          "name": "stdout",
          "text": [
            "lion and forest simalrity :  0.17756386\n"
          ]
        }
      ]
    },
    {
      "cell_type": "code",
      "source": [
        "print(f'tiger and forest simalrity : ',wv.similarity(text2,text3))"
      ],
      "metadata": {
        "colab": {
          "base_uri": "https://localhost:8080/"
        },
        "id": "lJPeuoedtlYn",
        "outputId": "fcf919cc-5882-4fd3-b0e7-b68cd868c290"
      },
      "execution_count": null,
      "outputs": [
        {
          "output_type": "stream",
          "name": "stdout",
          "text": [
            "tiger and forest simalrity :  0.4166548\n"
          ]
        }
      ]
    },
    {
      "cell_type": "code",
      "source": [
        "print(f'lion and tiger simalrity : ',wv.similarity(text1,text3))\n"
      ],
      "metadata": {
        "colab": {
          "base_uri": "https://localhost:8080/"
        },
        "id": "W4M9eztosGFP",
        "outputId": "2faabefe-fe62-40a7-a5a3-e9233bb1ce7a"
      },
      "execution_count": null,
      "outputs": [
        {
          "output_type": "stream",
          "name": "stdout",
          "text": [
            "lion and tiger simalrity :  0.5121041\n"
          ]
        }
      ]
    },
    {
      "cell_type": "code",
      "source": [
        "print(f'sun and  heat : ',wv.similarity(text4,text5))"
      ],
      "metadata": {
        "colab": {
          "base_uri": "https://localhost:8080/"
        },
        "id": "SMjDoy9ZsgQT",
        "outputId": "1c63bc5f-dd18-41da-f27a-f7877d815e5f"
      },
      "execution_count": null,
      "outputs": [
        {
          "output_type": "stream",
          "name": "stdout",
          "text": [
            "sun and  heat :  0.47289225\n"
          ]
        }
      ]
    },
    {
      "cell_type": "code",
      "source": [
        "print(wv.most_similar('good'))    #list the words that are similar in context to it."
      ],
      "metadata": {
        "colab": {
          "base_uri": "https://localhost:8080/"
        },
        "id": "SIkRUYaHu82q",
        "outputId": "47974c1a-9d6e-4d17-b14d-d0a47f64f1d0"
      },
      "execution_count": null,
      "outputs": [
        {
          "output_type": "stream",
          "name": "stdout",
          "text": [
            "[('great', 0.7291510105133057), ('bad', 0.7190051078796387), ('terrific', 0.6889115571975708), ('decent', 0.6837348341941833), ('nice', 0.6836092472076416), ('excellent', 0.644292950630188), ('fantastic', 0.6407778263092041), ('better', 0.6120728850364685), ('solid', 0.5806034803390503), ('lousy', 0.576420247554779)]\n"
          ]
        }
      ]
    },
    {
      "cell_type": "code",
      "source": [
        "print(wv.most_similar('google'))"
      ],
      "metadata": {
        "colab": {
          "base_uri": "https://localhost:8080/"
        },
        "id": "-OQXTXUkvwMx",
        "outputId": "48a6f49f-46d2-4faf-ed07-e94494c24f13"
      },
      "execution_count": null,
      "outputs": [
        {
          "output_type": "stream",
          "name": "stdout",
          "text": [
            "[('google.com', 0.6711485981941223), ('google_yahoo', 0.6488178968429565), ('wikipedia', 0.643608033657074), ('www.google.com', 0.6258559226989746), ('googled', 0.6166064143180847), ('googling', 0.6086059212684631), ('slashdot', 0.5964587330818176), ('lifehacker', 0.5948858857154846), ('gizmodo', 0.5884420275688171), ('inurl', 0.5882638692855835)]\n"
          ]
        }
      ]
    },
    {
      "cell_type": "code",
      "source": [
        "print(wv.most_similar('money'))"
      ],
      "metadata": {
        "colab": {
          "base_uri": "https://localhost:8080/"
        },
        "id": "mbjJOieAwGS0",
        "outputId": "4577273a-8ebf-4cfe-8984-15dc37d14852"
      },
      "execution_count": null,
      "outputs": [
        {
          "output_type": "stream",
          "name": "stdout",
          "text": [
            "[('monies', 0.7165061831474304), ('funds', 0.7055202722549438), ('moneys', 0.6289054751396179), ('dollars', 0.628852367401123), ('cash', 0.6151221394538879), ('vast_sums', 0.6057385802268982), ('fund', 0.5789709091186523), ('Money', 0.5733489394187927), ('taxpayer_dollars', 0.5693671107292175), ('Monies', 0.5586517453193665)]\n"
          ]
        }
      ]
    },
    {
      "cell_type": "code",
      "source": [
        "wv.doesnt_match(\"breakfast cereal dinner lunch\".split())    #pick the odd one"
      ],
      "metadata": {
        "colab": {
          "base_uri": "https://localhost:8080/",
          "height": 36
        },
        "id": "Y1bPurWUwU2R",
        "outputId": "2e594cc7-60c3-4f0a-93dc-9ebb3583d9ae"
      },
      "execution_count": null,
      "outputs": [
        {
          "output_type": "execute_result",
          "data": {
            "text/plain": [
              "'cereal'"
            ],
            "application/vnd.google.colaboratory.intrinsic+json": {
              "type": "string"
            }
          },
          "metadata": {},
          "execution_count": 14
        }
      ]
    },
    {
      "cell_type": "markdown",
      "source": [
        "### **Glove**"
      ],
      "metadata": {
        "id": "Lv3IshubycsH"
      }
    },
    {
      "cell_type": "code",
      "source": [
        "#load the glove-twitter-25\n",
        "glv=api.load('glove-twitter-25')"
      ],
      "metadata": {
        "id": "qoRIBFGWyWwA"
      },
      "execution_count": null,
      "outputs": []
    },
    {
      "cell_type": "code",
      "source": [
        "print(f'lion and forest simalrity : ',glv.similarity(text1,text2))"
      ],
      "metadata": {
        "colab": {
          "base_uri": "https://localhost:8080/"
        },
        "id": "YjnXnyjPzMwj",
        "outputId": "42e41b08-ee05-4bd0-8bc1-42f89c5014dd"
      },
      "execution_count": null,
      "outputs": [
        {
          "output_type": "stream",
          "name": "stdout",
          "text": [
            "lion and forest simalrity :  0.7856778\n"
          ]
        }
      ]
    },
    {
      "cell_type": "code",
      "source": [
        "print(f'tiger and forest simalrity : ',glv.similarity(text2,text3))"
      ],
      "metadata": {
        "colab": {
          "base_uri": "https://localhost:8080/"
        },
        "id": "QsWWNwEOzcOz",
        "outputId": "feca3735-7bf5-4e0c-81e6-69b820c05949"
      },
      "execution_count": null,
      "outputs": [
        {
          "output_type": "stream",
          "name": "stdout",
          "text": [
            "tiger and forest simalrity :  0.82342416\n"
          ]
        }
      ]
    },
    {
      "cell_type": "code",
      "source": [
        "print(f'sun and  heat : ',glv.similarity(text4,text5))"
      ],
      "metadata": {
        "colab": {
          "base_uri": "https://localhost:8080/"
        },
        "id": "RitoIyO4zef-",
        "outputId": "eedda58e-ea76-4ce6-fef0-c913dbd304b0"
      },
      "execution_count": null,
      "outputs": [
        {
          "output_type": "stream",
          "name": "stdout",
          "text": [
            "sun and  heat :  0.68413025\n"
          ]
        }
      ]
    },
    {
      "cell_type": "code",
      "source": [
        "print(glv.most_similar('google'))"
      ],
      "metadata": {
        "colab": {
          "base_uri": "https://localhost:8080/"
        },
        "id": "YYobTPAA0_IO",
        "outputId": "8b0d7967-f8e2-41a5-a5ad-4c1eafca4c49"
      },
      "execution_count": null,
      "outputs": [
        {
          "output_type": "stream",
          "name": "stdout",
          "text": [
            "[('facebook', 0.9231431484222412), ('web', 0.9163658022880554), ('app', 0.905758261680603), ('youtube', 0.8911036252975464), ('microsoft', 0.8854138255119324), ('online', 0.883611261844635), ('yahoo', 0.8831738233566284), ('apple', 0.8823866248130798), ('internet', 0.8815463781356812), ('ios', 0.8784741759300232)]\n"
          ]
        }
      ]
    },
    {
      "cell_type": "code",
      "source": [
        "print(glv.most_similar('good'))"
      ],
      "metadata": {
        "colab": {
          "base_uri": "https://localhost:8080/"
        },
        "id": "m39TTMbz1HaI",
        "outputId": "3f06a0ee-9fb7-4dc5-ac7e-d1610bff25af"
      },
      "execution_count": null,
      "outputs": [
        {
          "output_type": "stream",
          "name": "stdout",
          "text": [
            "[('too', 0.9648017287254333), ('day', 0.9533665180206299), ('well', 0.9503170847892761), ('nice', 0.9438973665237427), ('better', 0.9425962567329407), ('fun', 0.9418926239013672), ('much', 0.9413353800773621), ('this', 0.9387555122375488), ('hope', 0.9383506774902344), ('great', 0.9378516674041748)]\n"
          ]
        }
      ]
    },
    {
      "cell_type": "code",
      "source": [
        "glv.doesnt_match(\"breakfast cereal dinner lunch\".split())    #pick the odd one"
      ],
      "metadata": {
        "colab": {
          "base_uri": "https://localhost:8080/",
          "height": 36
        },
        "id": "oGx4loU-1maW",
        "outputId": "88fecea8-ea6f-4818-83cf-066dab416ce8"
      },
      "execution_count": null,
      "outputs": [
        {
          "output_type": "execute_result",
          "data": {
            "text/plain": [
              "'cereal'"
            ],
            "application/vnd.google.colaboratory.intrinsic+json": {
              "type": "string"
            }
          },
          "metadata": {},
          "execution_count": 21
        }
      ]
    }
  ]
}